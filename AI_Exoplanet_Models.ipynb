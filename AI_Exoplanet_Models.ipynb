{
  "nbformat": 4,
  "nbformat_minor": 0,
  "metadata": {
    "colab": {
      "provenance": [],
      "authorship_tag": "ABX9TyN4nqYDCqSm+Xc/nrj0aABQ",
      "include_colab_link": true
    },
    "kernelspec": {
      "name": "python3",
      "display_name": "Python 3"
    },
    "language_info": {
      "name": "python"
    }
  },
  "cells": [
    {
      "cell_type": "markdown",
      "metadata": {
        "id": "view-in-github",
        "colab_type": "text"
      },
      "source": [
        "<a href=\"https://colab.research.google.com/github/NASA-Hackathon-Imaginarium-Team/AI-Team/blob/main/AI_Exoplanet_Models.ipynb\" target=\"_parent\"><img src=\"https://colab.research.google.com/assets/colab-badge.svg\" alt=\"Open In Colab\"/></a>"
      ]
    },
    {
      "cell_type": "code",
      "source": [
        "!pip -q install pandas==2.2.2 scikit-learn==1.5.2 lightgbm catboost xgboost joblib matplotlib\n"
      ],
      "metadata": {
        "colab": {
          "base_uri": "https://localhost:8080/"
        },
        "id": "iM1AF24625Ft",
        "outputId": "ae7997b4-4bea-45fe-b983-26d99c95efb4"
      },
      "execution_count": 36,
      "outputs": [
        {
          "output_type": "stream",
          "name": "stdout",
          "text": [
            "\u001b[2K   \u001b[90m━━━━━━━━━━━━━━━━━━━━━━━━━━━━━━━━━━━━━━━━\u001b[0m \u001b[32m99.2/99.2 MB\u001b[0m \u001b[31m5.5 MB/s\u001b[0m eta \u001b[36m0:00:00\u001b[0m\n",
            "\u001b[?25h"
          ]
        }
      ]
    },
    {
      "cell_type": "code",
      "source": [
        "import glob, os, pandas as pd\n",
        "\n",
        "# Tries to find your attached file in /content\n",
        "candidates = sorted(glob.glob(\"/content/*.csv\"))\n",
        "# Prefer something with \"Kepler\" or \"KOI\" in the name\n",
        "prio = [p for p in candidates if \"kepler\" in p.lower() or \"koi\" in p.lower()]\n",
        "DATA_PATH = prio[0] if prio else (candidates[0] if candidates else None)\n",
        "assert DATA_PATH is not None, \"No CSV found in /content. Upload your file to the Colab Files panel.\"\n",
        "\n",
        "df_raw = pd.read_csv(DATA_PATH, low_memory=False)\n",
        "print(f\"Using: {os.path.basename(DATA_PATH)}, shape={df_raw.shape}\")\n",
        "print(\"First 15 columns:\", df_raw.columns[:15].tolist())\n"
      ],
      "metadata": {
        "colab": {
          "base_uri": "https://localhost:8080/"
        },
        "id": "UifAPOf7282x",
        "outputId": "0fa58f40-3e3e-4719-91f3-293f88de4b7a"
      },
      "execution_count": 37,
      "outputs": [
        {
          "output_type": "stream",
          "name": "stdout",
          "text": [
            "Using: Kepler Objects of Interest - Filtered.csv, shape=(7585, 44)\n",
            "First 15 columns: ['kepid', 'koi_disposition', 'koi_score', 'koi_fpflag_nt', 'koi_fpflag_ss', 'koi_fpflag_co', 'koi_fpflag_ec', 'koi_period', 'koi_period_err1', 'koi_period_err2', 'koi_time0bk', 'koi_time0bk_err1', 'koi_time0bk_err2', 'koi_impact', 'koi_impact_err1']\n"
          ]
        }
      ]
    },
    {
      "cell_type": "code",
      "source": [
        "import numpy as np\n",
        "from typing import List\n",
        "\n",
        "def pick(cols: List[str], candidates: List[str]):\n",
        "    m = {c.lower().strip(): c for c in cols}\n",
        "    for cand in candidates:\n",
        "        key = cand.lower().strip()\n",
        "        if key in m:\n",
        "            return m[key]\n",
        "    return None\n",
        "\n",
        "# Try to find label and star_id\n",
        "label_col = pick(df_raw.columns, [\"koi_disposition\",\"Disposition Using Kepler Data\",\"kepler_disposition\",\"disposition\"])\n",
        "star_col  = pick(df_raw.columns, [\"kepid\",\"kep id\",\"kepler id\",\"kepler_id\"])\n",
        "\n",
        "print(\"Detected label column:\", label_col)\n",
        "print(\"Detected star_id column:\", star_col)\n",
        "\n",
        "# Candidate feature names typical in KOI\n",
        "allowlist = [\n",
        "    \"koi_period\",\"koi_duration\",\"koi_depth\",\"koi_prad\",\"koi_ror\",\"koi_dor\",\"koi_impact\",\n",
        "    \"koi_count\",\"koi_snr\",\"koi_model_snr\",\"koi_steff\",\"koi_slogg\",\"koi_smet\",\"koi_srad\",\"koi_smass\"\n",
        "]\n",
        "present_allow = [c for c in allowlist if c in df_raw.columns]\n",
        "\n",
        "# Fallback: numeric columns with leakage-guards\n",
        "num_cols = [c for c in df_raw.columns if pd.api.types.is_numeric_dtype(df_raw[c])]\n",
        "bad_bits = (\"disposition\",\"pdisposition\",\"fpflag\",\"flag\",\"tfop\",\"vet\",\"koi_score\")\n",
        "fallback = [c for c in num_cols if not any(b in c.lower() for b in bad_bits)]\n",
        "\n",
        "# Use allowlist if we found at least 5; else fallback\n",
        "FEATS = present_allow if len(present_allow) >= 5 else fallback\n",
        "print(f\"Selected {len(FEATS)} features.\")\n",
        "print(FEATS[:20])\n",
        "\n",
        "# Build working frame\n",
        "df = df_raw.copy()\n",
        "if label_col is None:\n",
        "    raise ValueError(\"Couldn't detect label column. Tell me the exact header name for the disposition/label.\")\n",
        "\n",
        "df[\"label\"] = df[label_col].astype(str).str.upper().str.strip()\n",
        "label_map = {\n",
        "    \"CONFIRMED\":\"CONFIRMED\",\n",
        "    \"CANDIDATE\":\"CANDIDATE\",\n",
        "    \"FALSE POSITIVE\":\"FALSE POSITIVE\",\n",
        "    \"FALSE_POSITIVE\":\"FALSE POSITIVE\",\n",
        "    \"FP\":\"FALSE POSITIVE\"\n",
        "}\n",
        "df[\"label\"] = df[\"label\"].map(lambda x: label_map.get(x, x))\n",
        "df = df[df[\"label\"].isin([\"CONFIRMED\",\"CANDIDATE\",\"FALSE POSITIVE\"])].reset_index(drop=True)\n",
        "\n",
        "# star_id (for GroupKFold); if missing, we’ll fallback to StratifiedKFold later\n",
        "df[\"star_id\"] = df[star_col].astype(str) if star_col is not None else \"NA\"\n",
        "\n",
        "# Keep only needed columns; coerce to numeric\n",
        "dfX = df[FEATS].apply(pd.to_numeric, errors=\"coerce\")\n",
        "# Drop rows with all-NaN features\n",
        "df = df.loc[~dfX.isna().all(axis=1)].copy()\n",
        "dfX = df[FEATS].apply(pd.to_numeric, errors=\"coerce\")\n",
        "print(\"Data after cleaning:\", df.shape)\n",
        "print(\"Label counts:\\n\", df[\"label\"].value_counts())\n"
      ],
      "metadata": {
        "colab": {
          "base_uri": "https://localhost:8080/"
        },
        "id": "_Su2smkI3AHy",
        "outputId": "7bdb02e5-8ecd-4fd8-d9b2-17c2894bea14"
      },
      "execution_count": 38,
      "outputs": [
        {
          "output_type": "stream",
          "name": "stdout",
          "text": [
            "Detected label column: koi_disposition\n",
            "Detected star_id column: kepid\n",
            "Selected 9 features.\n",
            "['koi_period', 'koi_duration', 'koi_depth', 'koi_prad', 'koi_impact', 'koi_model_snr', 'koi_steff', 'koi_slogg', 'koi_srad']\n",
            "Data after cleaning: (7585, 46)\n",
            "Label counts:\n",
            " label\n",
            "FALSE POSITIVE    4839\n",
            "CONFIRMED         2746\n",
            "Name: count, dtype: int64\n"
          ]
        }
      ]
    },
    {
      "cell_type": "code",
      "source": [
        "from sklearn.model_selection import GroupKFold, StratifiedKFold\n",
        "\n",
        "use_groups = (star_col is not None) and (df[\"star_id\"].nunique() > 1)\n",
        "if use_groups:\n",
        "    splitter = GroupKFold(n_splits=5)\n",
        "    split_iter = list(splitter.split(dfX, df[\"label\"], df[\"star_id\"]))\n",
        "    print(\"Using GroupKFold by star_id.\")\n",
        "else:\n",
        "    splitter = StratifiedKFold(n_splits=5, shuffle=True, random_state=42)\n",
        "    split_iter = list(splitter.split(dfX, df[\"label\"]))\n",
        "    print(\"Using StratifiedKFold (no star_id detected).\")\n"
      ],
      "metadata": {
        "colab": {
          "base_uri": "https://localhost:8080/"
        },
        "id": "mB7gm1YK3Dbe",
        "outputId": "eef75739-7522-4052-e190-74f12e0dfd45"
      },
      "execution_count": 39,
      "outputs": [
        {
          "output_type": "stream",
          "name": "stdout",
          "text": [
            "Using GroupKFold by star_id.\n"
          ]
        }
      ]
    },
    {
      "cell_type": "code",
      "source": [
        "from sklearn.preprocessing import FunctionTransformer, StandardScaler, LabelEncoder\n",
        "from sklearn.compose import ColumnTransformer\n",
        "from sklearn.pipeline import Pipeline\n",
        "from sklearn.impute import SimpleImputer\n",
        "from sklearn.metrics import classification_report, confusion_matrix, roc_auc_score, average_precision_score\n",
        "\n",
        "def logish(A):\n",
        "    A = np.asarray(A, dtype=float)\n",
        "    A = np.clip(A, a_min=0, a_max=None)\n",
        "    return np.log1p(A)\n",
        "\n",
        "numeric_pre = Pipeline([\n",
        "    (\"imp\", SimpleImputer(strategy=\"median\")),\n",
        "    (\"log1p\", FunctionTransformer(logish, feature_names_out=\"one-to-one\")),\n",
        "])\n",
        "\n",
        "numeric_pre_scaled = Pipeline([\n",
        "    (\"imp\", SimpleImputer(strategy=\"median\")),\n",
        "    (\"log1p\", FunctionTransformer(logish, feature_names_out=\"one-to-one\")),\n",
        "    (\"sc\", StandardScaler(with_mean=False))  # sparse-safe\n",
        "])\n",
        "\n",
        "def evaluate_oof(y_true, oof_pred, oof_proba, classes):\n",
        "    print(classification_report(y_true, oof_pred, target_names=classes, digits=4))\n",
        "    print(\"Confusion matrix:\\n\", confusion_matrix(y_true, oof_pred))\n",
        "    # AUROC/AUPRC (OvR)\n",
        "    y_bin = np.eye(len(classes))[y_true]\n",
        "    auroc = {cls: roc_auc_score(y_bin[:,i], oof_proba[:,i]) for i,cls in enumerate(classes)}\n",
        "    auprc = {cls: average_precision_score(y_bin[:,i], oof_proba[:,i]) for i,cls in enumerate(classes)}\n",
        "    print(\"AUROC:\", auroc)\n",
        "    print(\"AUPRC:\", auprc)\n",
        "    return auroc, auprc\n",
        "\n",
        "def cv_oof(model_pipeline, X, y, split_iter):\n",
        "    oof_proba = np.zeros((len(X), len(np.unique(y))))\n",
        "    oof_pred  = np.zeros(len(X), dtype=int)\n",
        "    fold_models = []\n",
        "    for fold, idx in enumerate(split_iter, 1):\n",
        "        if len(idx) == 2:\n",
        "            tr, va = idx\n",
        "            groups = None\n",
        "        else:\n",
        "            tr, va, _ = idx  # not used\n",
        "        model_pipeline.fit(X.iloc[tr], y[tr])\n",
        "        p = model_pipeline.predict_proba(X.iloc[va])\n",
        "        oof_proba[va] = p\n",
        "        oof_pred[va]  = p.argmax(1)\n",
        "        fold_models.append(model_pipeline)\n",
        "        print(f\"Fold {fold} ✓\")\n",
        "    return oof_proba, oof_pred, fold_models\n"
      ],
      "metadata": {
        "id": "dQMvmBjv3Zzm"
      },
      "execution_count": 40,
      "outputs": []
    },
    {
      "cell_type": "code",
      "source": [
        "le = LabelEncoder()\n",
        "y = le.fit_transform(df[\"label\"].values)\n",
        "classes = list(le.classes_)\n",
        "print(\"Classes:\", classes)\n"
      ],
      "metadata": {
        "colab": {
          "base_uri": "https://localhost:8080/"
        },
        "id": "E1_jtbmp3hTI",
        "outputId": "e324ed21-27e2-4cb2-9fb8-c4567963fdae"
      },
      "execution_count": 41,
      "outputs": [
        {
          "output_type": "stream",
          "name": "stdout",
          "text": [
            "Classes: ['CONFIRMED', 'FALSE POSITIVE']\n"
          ]
        }
      ]
    },
    {
      "cell_type": "code",
      "source": [
        "import numpy as np\n",
        "\n",
        "maj_idx = np.bincount(y).argmax()\n",
        "oof_pred = np.full_like(y, maj_idx)\n",
        "# Constant probabilities: 1.0 for majority class\n",
        "oof_proba = np.zeros((len(y), len(classes)))\n",
        "oof_proba[:, maj_idx] = 1.0\n",
        "\n",
        "print(\"== Majority class baseline ==\")\n",
        "_ = evaluate_oof(y, oof_pred, oof_proba, classes)\n"
      ],
      "metadata": {
        "colab": {
          "base_uri": "https://localhost:8080/"
        },
        "id": "lqs42YEP3nNd",
        "outputId": "92502ac7-dab2-4dce-dca5-4d5cc433b579"
      },
      "execution_count": 42,
      "outputs": [
        {
          "output_type": "stream",
          "name": "stdout",
          "text": [
            "== Majority class baseline ==\n",
            "                precision    recall  f1-score   support\n",
            "\n",
            "     CONFIRMED     0.0000    0.0000    0.0000      2746\n",
            "FALSE POSITIVE     0.6380    1.0000    0.7790      4839\n",
            "\n",
            "      accuracy                         0.6380      7585\n",
            "     macro avg     0.3190    0.5000    0.3895      7585\n",
            "  weighted avg     0.4070    0.6380    0.4970      7585\n",
            "\n",
            "Confusion matrix:\n",
            " [[   0 2746]\n",
            " [   0 4839]]\n",
            "AUROC: {'CONFIRMED': np.float64(0.5), 'FALSE POSITIVE': np.float64(0.5)}\n",
            "AUPRC: {'CONFIRMED': np.float64(0.36203032300593274), 'FALSE POSITIVE': np.float64(0.6379696769940673)}\n"
          ]
        },
        {
          "output_type": "stream",
          "name": "stderr",
          "text": [
            "/usr/local/lib/python3.12/dist-packages/sklearn/metrics/_classification.py:1531: UndefinedMetricWarning: Precision is ill-defined and being set to 0.0 in labels with no predicted samples. Use `zero_division` parameter to control this behavior.\n",
            "  _warn_prf(average, modifier, f\"{metric.capitalize()} is\", len(result))\n",
            "/usr/local/lib/python3.12/dist-packages/sklearn/metrics/_classification.py:1531: UndefinedMetricWarning: Precision is ill-defined and being set to 0.0 in labels with no predicted samples. Use `zero_division` parameter to control this behavior.\n",
            "  _warn_prf(average, modifier, f\"{metric.capitalize()} is\", len(result))\n",
            "/usr/local/lib/python3.12/dist-packages/sklearn/metrics/_classification.py:1531: UndefinedMetricWarning: Precision is ill-defined and being set to 0.0 in labels with no predicted samples. Use `zero_division` parameter to control this behavior.\n",
            "  _warn_prf(average, modifier, f\"{metric.capitalize()} is\", len(result))\n"
          ]
        }
      ]
    },
    {
      "cell_type": "code",
      "source": [
        "from sklearn.linear_model import LogisticRegression\n",
        "\n",
        "log_pre = ColumnTransformer([(\"num\", numeric_pre_scaled, FEATS)], remainder=\"drop\")\n",
        "log_clf = LogisticRegression(max_iter=2000, class_weight=\"balanced\", n_jobs=-1)\n",
        "\n",
        "log_pipe = Pipeline([(\"pre\", log_pre), (\"clf\", log_clf)])\n",
        "\n",
        "print(\"== Logistic Regression ==\")\n",
        "log_oof_proba, log_oof_pred, log_models = cv_oof(log_pipe, dfX, y, split_iter)\n",
        "_ = evaluate_oof(y, log_oof_pred, log_oof_proba, classes)\n"
      ],
      "metadata": {
        "colab": {
          "base_uri": "https://localhost:8080/"
        },
        "id": "k85tDrDn3r3u",
        "outputId": "934d3e82-fc73-467e-93a8-c6b47fe3d8ae"
      },
      "execution_count": 43,
      "outputs": [
        {
          "output_type": "stream",
          "name": "stdout",
          "text": [
            "== Logistic Regression ==\n",
            "Fold 1 ✓\n",
            "Fold 2 ✓\n",
            "Fold 3 ✓\n",
            "Fold 4 ✓\n",
            "Fold 5 ✓\n",
            "                precision    recall  f1-score   support\n",
            "\n",
            "     CONFIRMED     0.6020    0.8758    0.7135      2746\n",
            "FALSE POSITIVE     0.9050    0.6714    0.7709      4839\n",
            "\n",
            "      accuracy                         0.7454      7585\n",
            "     macro avg     0.7535    0.7736    0.7422      7585\n",
            "  weighted avg     0.7953    0.7454    0.7501      7585\n",
            "\n",
            "Confusion matrix:\n",
            " [[2405  341]\n",
            " [1590 3249]]\n",
            "AUROC: {'CONFIRMED': np.float64(0.8503878041170406), 'FALSE POSITIVE': np.float64(0.8503878041170406)}\n",
            "AUPRC: {'CONFIRMED': np.float64(0.7374722719580048), 'FALSE POSITIVE': np.float64(0.9165374792091237)}\n"
          ]
        }
      ]
    },
    {
      "cell_type": "code",
      "source": [
        "from sklearn.ensemble import RandomForestClassifier\n",
        "\n",
        "rf_pre = ColumnTransformer([(\"num\", numeric_pre, FEATS)], remainder=\"drop\")\n",
        "rf_clf = RandomForestClassifier(\n",
        "    n_estimators=600, max_depth=None, min_samples_leaf=2,\n",
        "    class_weight=\"balanced_subsample\", n_jobs=-1, random_state=42\n",
        ")\n",
        "rf_pipe = Pipeline([(\"pre\", rf_pre), (\"clf\", rf_clf)])\n",
        "\n",
        "print(\"== Random Forest ==\")\n",
        "rf_oof_proba, rf_oof_pred, rf_models = cv_oof(rf_pipe, dfX, y, split_iter)\n",
        "_ = evaluate_oof(y, rf_oof_pred, rf_oof_proba, classes)\n"
      ],
      "metadata": {
        "colab": {
          "base_uri": "https://localhost:8080/"
        },
        "id": "ECARkITC4CrU",
        "outputId": "8c658887-33ba-4116-f01c-31edce779bc8"
      },
      "execution_count": 44,
      "outputs": [
        {
          "output_type": "stream",
          "name": "stdout",
          "text": [
            "== Random Forest ==\n",
            "Fold 1 ✓\n",
            "Fold 2 ✓\n",
            "Fold 3 ✓\n",
            "Fold 4 ✓\n",
            "Fold 5 ✓\n",
            "                precision    recall  f1-score   support\n",
            "\n",
            "     CONFIRMED     0.8816    0.9086    0.8949      2746\n",
            "FALSE POSITIVE     0.9472    0.9308    0.9389      4839\n",
            "\n",
            "      accuracy                         0.9227      7585\n",
            "     macro avg     0.9144    0.9197    0.9169      7585\n",
            "  weighted avg     0.9235    0.9227    0.9230      7585\n",
            "\n",
            "Confusion matrix:\n",
            " [[2495  251]\n",
            " [ 335 4504]]\n",
            "AUROC: {'CONFIRMED': np.float64(0.9738242945044565), 'FALSE POSITIVE': np.float64(0.9738242945044565)}\n",
            "AUPRC: {'CONFIRMED': np.float64(0.9507325942152898), 'FALSE POSITIVE': np.float64(0.9848989690254815)}\n"
          ]
        }
      ]
    },
    {
      "cell_type": "code",
      "source": [
        "from lightgbm import LGBMClassifier\n",
        "\n",
        "lgb_pre = ColumnTransformer([(\"num\", numeric_pre, FEATS)], remainder=\"drop\")\n",
        "lgb_clf = LGBMClassifier(\n",
        "    n_estimators=3000, learning_rate=0.02,\n",
        "    subsample=0.9, colsample_bytree=0.9, max_depth=-1,\n",
        "    min_child_samples=40, class_weight=\"balanced\",\n",
        "    n_jobs=-1, random_state=42\n",
        ")\n",
        "lgb_pipe = Pipeline([(\"pre\", lgb_pre), (\"clf\", lgb_clf)])\n",
        "\n",
        "print(\"== LightGBM ==\")\n",
        "lgb_oof_proba, lgb_oof_pred, lgb_models = cv_oof(lgb_pipe, dfX, y, split_iter)\n",
        "_ = evaluate_oof(y, lgb_oof_pred, lgb_oof_proba, classes)\n"
      ],
      "metadata": {
        "colab": {
          "base_uri": "https://localhost:8080/"
        },
        "id": "hwishklK4Zlm",
        "outputId": "09eeec4b-9739-446b-ea4d-7678dd8d2b03"
      },
      "execution_count": 45,
      "outputs": [
        {
          "output_type": "stream",
          "name": "stdout",
          "text": [
            "== LightGBM ==\n",
            "[LightGBM] [Info] Number of positive: 3869, number of negative: 2199\n",
            "[LightGBM] [Info] Auto-choosing col-wise multi-threading, the overhead of testing was 0.004981 seconds.\n",
            "You can set `force_col_wise=true` to remove the overhead.\n",
            "[LightGBM] [Info] Total Bins 2295\n",
            "[LightGBM] [Info] Number of data points in the train set: 6068, number of used features: 9\n",
            "[LightGBM] [Info] [binary:BoostFromScore]: pavg=0.500000 -> initscore=-0.000000\n",
            "[LightGBM] [Info] Start training from score -0.000000\n",
            "Fold 1 ✓\n",
            "[LightGBM] [Info] Number of positive: 3865, number of negative: 2203\n",
            "[LightGBM] [Info] Auto-choosing col-wise multi-threading, the overhead of testing was 0.000774 seconds.\n",
            "You can set `force_col_wise=true` to remove the overhead.\n",
            "[LightGBM] [Info] Total Bins 2295\n",
            "[LightGBM] [Info] Number of data points in the train set: 6068, number of used features: 9\n",
            "[LightGBM] [Info] [binary:BoostFromScore]: pavg=0.500000 -> initscore=0.000000\n",
            "[LightGBM] [Info] Start training from score 0.000000\n",
            "Fold 2 ✓\n",
            "[LightGBM] [Info] Number of positive: 3866, number of negative: 2202\n",
            "[LightGBM] [Info] Auto-choosing col-wise multi-threading, the overhead of testing was 0.000594 seconds.\n",
            "You can set `force_col_wise=true` to remove the overhead.\n",
            "[LightGBM] [Info] Total Bins 2295\n",
            "[LightGBM] [Info] Number of data points in the train set: 6068, number of used features: 9\n",
            "[LightGBM] [Info] [binary:BoostFromScore]: pavg=0.500000 -> initscore=-0.000000\n",
            "[LightGBM] [Info] Start training from score -0.000000\n",
            "Fold 3 ✓\n",
            "[LightGBM] [Info] Number of positive: 3877, number of negative: 2191\n",
            "[LightGBM] [Info] Auto-choosing col-wise multi-threading, the overhead of testing was 0.000559 seconds.\n",
            "You can set `force_col_wise=true` to remove the overhead.\n",
            "[LightGBM] [Info] Total Bins 2295\n",
            "[LightGBM] [Info] Number of data points in the train set: 6068, number of used features: 9\n",
            "[LightGBM] [Info] [binary:BoostFromScore]: pavg=0.500000 -> initscore=0.000000\n",
            "[LightGBM] [Info] Start training from score 0.000000\n",
            "Fold 4 ✓\n",
            "[LightGBM] [Info] Number of positive: 3879, number of negative: 2189\n",
            "[LightGBM] [Info] Auto-choosing col-wise multi-threading, the overhead of testing was 0.000598 seconds.\n",
            "You can set `force_col_wise=true` to remove the overhead.\n",
            "[LightGBM] [Info] Total Bins 2295\n",
            "[LightGBM] [Info] Number of data points in the train set: 6068, number of used features: 9\n",
            "[LightGBM] [Info] [binary:BoostFromScore]: pavg=0.500000 -> initscore=-0.000000\n",
            "[LightGBM] [Info] Start training from score -0.000000\n",
            "Fold 5 ✓\n",
            "                precision    recall  f1-score   support\n",
            "\n",
            "     CONFIRMED     0.8865    0.9159    0.9009      2746\n",
            "FALSE POSITIVE     0.9513    0.9335    0.9423      4839\n",
            "\n",
            "      accuracy                         0.9271      7585\n",
            "     macro avg     0.9189    0.9247    0.9216      7585\n",
            "  weighted avg     0.9279    0.9271    0.9273      7585\n",
            "\n",
            "Confusion matrix:\n",
            " [[2515  231]\n",
            " [ 322 4517]]\n",
            "AUROC: {'CONFIRMED': np.float64(0.9767367199045989), 'FALSE POSITIVE': np.float64(0.976736719904599)}\n",
            "AUPRC: {'CONFIRMED': np.float64(0.9548271516977922), 'FALSE POSITIVE': np.float64(0.9871199432184234)}\n"
          ]
        }
      ]
    },
    {
      "cell_type": "code",
      "source": [
        "from catboost import CatBoostClassifier\n",
        "\n",
        "cb_pre = ColumnTransformer([(\"num\", numeric_pre, FEATS)], remainder=\"drop\")\n",
        "cb_clf = CatBoostClassifier(\n",
        "    iterations=2000, learning_rate=0.03, depth=8,\n",
        "    loss_function=\"MultiClass\", eval_metric=\"TotalF1\", auto_class_weights=\"Balanced\",\n",
        "    verbose=False, random_seed=42\n",
        ")\n",
        "cb_pipe = Pipeline([(\"pre\", cb_pre), (\"clf\", cb_clf)])\n",
        "\n",
        "print(\"== CatBoost ==\")\n",
        "cb_oof_proba, cb_oof_pred, cb_models = cv_oof(cb_pipe, dfX, y, split_iter)\n",
        "_ = evaluate_oof(y, cb_oof_pred, cb_oof_proba, classes)\n"
      ],
      "metadata": {
        "colab": {
          "base_uri": "https://localhost:8080/"
        },
        "id": "K8t0QPIx4puu",
        "outputId": "94d47bd7-b340-4e56-a965-4c85c11ac0b1"
      },
      "execution_count": 46,
      "outputs": [
        {
          "output_type": "stream",
          "name": "stdout",
          "text": [
            "== CatBoost ==\n",
            "Fold 1 ✓\n",
            "Fold 2 ✓\n",
            "Fold 3 ✓\n",
            "Fold 4 ✓\n",
            "Fold 5 ✓\n",
            "                precision    recall  f1-score   support\n",
            "\n",
            "     CONFIRMED     0.8828    0.9330    0.9072      2746\n",
            "FALSE POSITIVE     0.9607    0.9297    0.9450      4839\n",
            "\n",
            "      accuracy                         0.9309      7585\n",
            "     macro avg     0.9218    0.9314    0.9261      7585\n",
            "  weighted avg     0.9325    0.9309    0.9313      7585\n",
            "\n",
            "Confusion matrix:\n",
            " [[2562  184]\n",
            " [ 340 4499]]\n",
            "AUROC: {'CONFIRMED': np.float64(0.9782143054422319), 'FALSE POSITIVE': np.float64(0.9782143054422319)}\n",
            "AUPRC: {'CONFIRMED': np.float64(0.9577404619078919), 'FALSE POSITIVE': np.float64(0.9871895668312323)}\n"
          ]
        }
      ]
    },
    {
      "cell_type": "code",
      "source": [
        "from xgboost import XGBClassifier\n",
        "\n",
        "xgb_pre = ColumnTransformer([(\"num\", numeric_pre, FEATS)], remainder=\"drop\")\n",
        "xgb_clf = XGBClassifier(\n",
        "    n_estimators=2000, learning_rate=0.03, max_depth=8,\n",
        "    subsample=0.9, colsample_bytree=0.9,\n",
        "    objective=\"multi:softprob\", num_class=len(classes),\n",
        "    tree_method=\"hist\", reg_lambda=1.0, random_state=42\n",
        ")\n",
        "xgb_pipe = Pipeline([(\"pre\", xgb_pre), (\"clf\", xgb_clf)])\n",
        "\n",
        "print(\"== XGBoost ==\")\n",
        "xgb_oof_proba, xgb_oof_pred, xgb_models = cv_oof(xgb_pipe, dfX, y, split_iter)\n",
        "_ = evaluate_oof(y, xgb_oof_pred, xgb_oof_proba, classes)\n"
      ],
      "metadata": {
        "colab": {
          "base_uri": "https://localhost:8080/"
        },
        "id": "oSfvU2Ma5p7V",
        "outputId": "6158cd55-58f8-4953-e341-1bf04f0e418e"
      },
      "execution_count": 47,
      "outputs": [
        {
          "output_type": "stream",
          "name": "stdout",
          "text": [
            "== XGBoost ==\n",
            "Fold 1 ✓\n",
            "Fold 2 ✓\n",
            "Fold 3 ✓\n",
            "Fold 4 ✓\n",
            "Fold 5 ✓\n",
            "                precision    recall  f1-score   support\n",
            "\n",
            "     CONFIRMED     0.8969    0.9093    0.9031      2746\n",
            "FALSE POSITIVE     0.9481    0.9407    0.9444      4839\n",
            "\n",
            "      accuracy                         0.9293      7585\n",
            "     macro avg     0.9225    0.9250    0.9237      7585\n",
            "  weighted avg     0.9296    0.9293    0.9294      7585\n",
            "\n",
            "Confusion matrix:\n",
            " [[2497  249]\n",
            " [ 287 4552]]\n",
            "AUROC: {'CONFIRMED': np.float64(0.9775584076754377), 'FALSE POSITIVE': np.float64(0.9775585958166132)}\n",
            "AUPRC: {'CONFIRMED': np.float64(0.9566834072162151), 'FALSE POSITIVE': np.float64(0.9875387432610079)}\n"
          ]
        }
      ]
    },
    {
      "cell_type": "code",
      "source": [
        "from sklearn.isotonic import IsotonicRegression\n",
        "\n",
        "base_proba = lgb_oof_proba  # <- change to cb_oof_proba / xgb_oof_proba if CatBoost/XGB is better\n",
        "base_pred  = lgb_oof_pred\n",
        "base_models = lgb_models\n",
        "\n",
        "calibrators = []\n",
        "proba_cal = np.zeros_like(base_proba)\n",
        "for i, cls in enumerate(classes):\n",
        "    iso = IsotonicRegression(out_of_bounds=\"clip\")\n",
        "    y_bin = (y == i).astype(int)\n",
        "    iso.fit(base_proba[:, i], y_bin)\n",
        "    proba_cal[:, i] = iso.transform(base_proba[:, i])\n",
        "    calibrators.append(iso)\n",
        "\n",
        "# renormalize to sum=1\n",
        "row_sums = proba_cal.sum(axis=1, keepdims=True)\n",
        "row_sums[row_sums == 0] = 1.0\n",
        "proba_cal = proba_cal / row_sums\n",
        "pred_cal = proba_cal.argmax(1)\n",
        "\n",
        "print(\"== After isotonic calibration (LightGBM) ==\")\n",
        "_ = evaluate_oof(y, pred_cal, proba_cal, classes)\n"
      ],
      "metadata": {
        "colab": {
          "base_uri": "https://localhost:8080/"
        },
        "id": "qF9RSgDT6WYd",
        "outputId": "c8c8e9ce-3d92-424e-b7e2-273c71646a91"
      },
      "execution_count": 48,
      "outputs": [
        {
          "output_type": "stream",
          "name": "stdout",
          "text": [
            "== After isotonic calibration (LightGBM) ==\n",
            "                precision    recall  f1-score   support\n",
            "\n",
            "     CONFIRMED     0.8927    0.9090    0.9008      2746\n",
            "FALSE POSITIVE     0.9478    0.9380    0.9429      4839\n",
            "\n",
            "      accuracy                         0.9275      7585\n",
            "     macro avg     0.9203    0.9235    0.9218      7585\n",
            "  weighted avg     0.9279    0.9275    0.9276      7585\n",
            "\n",
            "Confusion matrix:\n",
            " [[2496  250]\n",
            " [ 300 4539]]\n",
            "AUROC: {'CONFIRMED': np.float64(0.9775045240427114), 'FALSE POSITIVE': np.float64(0.9775045240427113)}\n",
            "AUPRC: {'CONFIRMED': np.float64(0.9530834871072866), 'FALSE POSITIVE': np.float64(0.9863790395963317)}\n"
          ]
        }
      ]
    },
    {
      "cell_type": "code",
      "source": [
        "import joblib, json, os, glob\n",
        "os.makedirs(\"artifacts\", exist_ok=True)\n",
        "\n",
        "joblib.dump(le, \"artifacts/label_encoder.joblib\")\n",
        "joblib.dump(FEATS, \"artifacts/feature_list.joblib\")\n",
        "for k, m in enumerate(base_models):\n",
        "    joblib.dump(m, f\"artifacts/model_fold{k}.joblib\")\n",
        "joblib.dump(calibrators, \"artifacts/calibrators.joblib\")\n",
        "\n",
        "card = {\n",
        "    \"dataset\": os.path.basename(DATA_PATH),\n",
        "    \"classes\": classes,\n",
        "    \"features\": FEATS,\n",
        "    \"cv\": \"GroupKFold by star_id\" if use_groups else \"StratifiedKFold\",\n",
        "    \"model\": \"LightGBM\"  # change if you switched\n",
        "}\n",
        "with open(\"artifacts/model_card.json\", \"w\") as f:\n",
        "    json.dump(card, f, indent=2)\n",
        "\n",
        "!ls -lh artifacts\n"
      ],
      "metadata": {
        "colab": {
          "base_uri": "https://localhost:8080/"
        },
        "id": "lhrwBx2662rb",
        "outputId": "fe98f5e7-6dbb-4ada-a759-fa513016fa49"
      },
      "execution_count": 49,
      "outputs": [
        {
          "output_type": "stream",
          "name": "stdout",
          "text": [
            "total 51M\n",
            "-rw-r--r-- 1 root root 3.1K Oct  4 11:11 calibrators.joblib\n",
            "-rw-r--r-- 1 root root  131 Oct  4 11:11 feature_list.joblib\n",
            "-rw-r--r-- 1 root root  502 Oct  4 11:11 label_encoder.joblib\n",
            "-rw-r--r-- 1 root root  354 Oct  4 11:11 model_card.json\n",
            "-rw-r--r-- 1 root root  11M Oct  4 11:11 model_fold0.joblib\n",
            "-rw-r--r-- 1 root root  11M Oct  4 11:11 model_fold1.joblib\n",
            "-rw-r--r-- 1 root root  11M Oct  4 11:11 model_fold2.joblib\n",
            "-rw-r--r-- 1 root root  11M Oct  4 11:11 model_fold3.joblib\n",
            "-rw-r--r-- 1 root root  11M Oct  4 11:11 model_fold4.joblib\n"
          ]
        }
      ]
    },
    {
      "cell_type": "code",
      "source": [
        "import numpy as np, pandas as pd, joblib, glob\n",
        "\n",
        "le2 = joblib.load(\"artifacts/label_encoder.joblib\")\n",
        "FEATS2 = joblib.load(\"artifacts/feature_list.joblib\")\n",
        "cal2 = joblib.load(\"artifacts/calibrators.joblib\")\n",
        "fold_paths = sorted(glob.glob(\"artifacts/model_fold*.joblib\"))\n",
        "models2 = [joblib.load(p) for p in fold_paths]\n",
        "classes2 = list(le2.classes_)\n",
        "\n",
        "def predict_rows(df_in: pd.DataFrame, confirmed_threshold: float|None=None):\n",
        "    # schema check\n",
        "    missing = [c for c in FEATS2 if c not in df_in.columns]\n",
        "    if missing:\n",
        "        raise ValueError(f\"Missing columns: {missing}\")\n",
        "    Xnew = df_in[FEATS2].apply(pd.to_numeric, errors=\"coerce\")\n",
        "    Xnew = Xnew.fillna(Xnew.median(numeric_only=True))\n",
        "    # average probs\n",
        "    probs = np.zeros((len(Xnew), len(classes2)))\n",
        "    for m in models2:\n",
        "        probs += m.predict_proba(Xnew)\n",
        "    probs /= len(models2)\n",
        "    # isotonic per class\n",
        "    for i in range(len(classes2)):\n",
        "        probs[:, i] = cal2[i].transform(probs[:, i])\n",
        "    probs = probs / probs.sum(axis=1, keepdims=True)\n",
        "    pred = probs.argmax(1)\n",
        "    if confirmed_threshold is not None and \"CONFIRMED\" in classes2:\n",
        "        idx = classes2.index(\"CONFIRMED\")\n",
        "        pred[probs[:, idx] >= confirmed_threshold] = idx\n",
        "    return probs, [classes2[i] for i in pred]\n",
        "\n",
        "# Demo on 5 rows from your file (drop any label/star columns if present)\n",
        "demo_cols = [c for c in FEATS2 if c in df.columns]\n",
        "demo_df = df[demo_cols].sample(5, random_state=0)\n",
        "probs_demo, labels_demo = predict_rows(demo_df, confirmed_threshold=0.7)\n",
        "pd.DataFrame({\"pred\": labels_demo, **{f\"P({c})\": probs_demo[:,i] for i,c in enumerate(classes2)}})\n"
      ],
      "metadata": {
        "colab": {
          "base_uri": "https://localhost:8080/",
          "height": 206
        },
        "id": "hy-ZCvj_6_4r",
        "outputId": "0229a22a-25f9-4549-efde-e1fc50641bc4"
      },
      "execution_count": 50,
      "outputs": [
        {
          "output_type": "execute_result",
          "data": {
            "text/plain": [
              "             pred  P(CONFIRMED)  P(FALSE POSITIVE)\n",
              "0  FALSE POSITIVE      0.000559           0.999441\n",
              "1  FALSE POSITIVE      0.011019           0.988981\n",
              "2  FALSE POSITIVE      0.000559           0.999441\n",
              "3       CONFIRMED      0.953890           0.046110\n",
              "4       CONFIRMED      0.958580           0.041420"
            ],
            "text/html": [
              "\n",
              "  <div id=\"df-b93c0057-ed53-4bb0-8df9-65448b804c44\" class=\"colab-df-container\">\n",
              "    <div>\n",
              "<style scoped>\n",
              "    .dataframe tbody tr th:only-of-type {\n",
              "        vertical-align: middle;\n",
              "    }\n",
              "\n",
              "    .dataframe tbody tr th {\n",
              "        vertical-align: top;\n",
              "    }\n",
              "\n",
              "    .dataframe thead th {\n",
              "        text-align: right;\n",
              "    }\n",
              "</style>\n",
              "<table border=\"1\" class=\"dataframe\">\n",
              "  <thead>\n",
              "    <tr style=\"text-align: right;\">\n",
              "      <th></th>\n",
              "      <th>pred</th>\n",
              "      <th>P(CONFIRMED)</th>\n",
              "      <th>P(FALSE POSITIVE)</th>\n",
              "    </tr>\n",
              "  </thead>\n",
              "  <tbody>\n",
              "    <tr>\n",
              "      <th>0</th>\n",
              "      <td>FALSE POSITIVE</td>\n",
              "      <td>0.000559</td>\n",
              "      <td>0.999441</td>\n",
              "    </tr>\n",
              "    <tr>\n",
              "      <th>1</th>\n",
              "      <td>FALSE POSITIVE</td>\n",
              "      <td>0.011019</td>\n",
              "      <td>0.988981</td>\n",
              "    </tr>\n",
              "    <tr>\n",
              "      <th>2</th>\n",
              "      <td>FALSE POSITIVE</td>\n",
              "      <td>0.000559</td>\n",
              "      <td>0.999441</td>\n",
              "    </tr>\n",
              "    <tr>\n",
              "      <th>3</th>\n",
              "      <td>CONFIRMED</td>\n",
              "      <td>0.953890</td>\n",
              "      <td>0.046110</td>\n",
              "    </tr>\n",
              "    <tr>\n",
              "      <th>4</th>\n",
              "      <td>CONFIRMED</td>\n",
              "      <td>0.958580</td>\n",
              "      <td>0.041420</td>\n",
              "    </tr>\n",
              "  </tbody>\n",
              "</table>\n",
              "</div>\n",
              "    <div class=\"colab-df-buttons\">\n",
              "\n",
              "  <div class=\"colab-df-container\">\n",
              "    <button class=\"colab-df-convert\" onclick=\"convertToInteractive('df-b93c0057-ed53-4bb0-8df9-65448b804c44')\"\n",
              "            title=\"Convert this dataframe to an interactive table.\"\n",
              "            style=\"display:none;\">\n",
              "\n",
              "  <svg xmlns=\"http://www.w3.org/2000/svg\" height=\"24px\" viewBox=\"0 -960 960 960\">\n",
              "    <path d=\"M120-120v-720h720v720H120Zm60-500h600v-160H180v160Zm220 220h160v-160H400v160Zm0 220h160v-160H400v160ZM180-400h160v-160H180v160Zm440 0h160v-160H620v160ZM180-180h160v-160H180v160Zm440 0h160v-160H620v160Z\"/>\n",
              "  </svg>\n",
              "    </button>\n",
              "\n",
              "  <style>\n",
              "    .colab-df-container {\n",
              "      display:flex;\n",
              "      gap: 12px;\n",
              "    }\n",
              "\n",
              "    .colab-df-convert {\n",
              "      background-color: #E8F0FE;\n",
              "      border: none;\n",
              "      border-radius: 50%;\n",
              "      cursor: pointer;\n",
              "      display: none;\n",
              "      fill: #1967D2;\n",
              "      height: 32px;\n",
              "      padding: 0 0 0 0;\n",
              "      width: 32px;\n",
              "    }\n",
              "\n",
              "    .colab-df-convert:hover {\n",
              "      background-color: #E2EBFA;\n",
              "      box-shadow: 0px 1px 2px rgba(60, 64, 67, 0.3), 0px 1px 3px 1px rgba(60, 64, 67, 0.15);\n",
              "      fill: #174EA6;\n",
              "    }\n",
              "\n",
              "    .colab-df-buttons div {\n",
              "      margin-bottom: 4px;\n",
              "    }\n",
              "\n",
              "    [theme=dark] .colab-df-convert {\n",
              "      background-color: #3B4455;\n",
              "      fill: #D2E3FC;\n",
              "    }\n",
              "\n",
              "    [theme=dark] .colab-df-convert:hover {\n",
              "      background-color: #434B5C;\n",
              "      box-shadow: 0px 1px 3px 1px rgba(0, 0, 0, 0.15);\n",
              "      filter: drop-shadow(0px 1px 2px rgba(0, 0, 0, 0.3));\n",
              "      fill: #FFFFFF;\n",
              "    }\n",
              "  </style>\n",
              "\n",
              "    <script>\n",
              "      const buttonEl =\n",
              "        document.querySelector('#df-b93c0057-ed53-4bb0-8df9-65448b804c44 button.colab-df-convert');\n",
              "      buttonEl.style.display =\n",
              "        google.colab.kernel.accessAllowed ? 'block' : 'none';\n",
              "\n",
              "      async function convertToInteractive(key) {\n",
              "        const element = document.querySelector('#df-b93c0057-ed53-4bb0-8df9-65448b804c44');\n",
              "        const dataTable =\n",
              "          await google.colab.kernel.invokeFunction('convertToInteractive',\n",
              "                                                    [key], {});\n",
              "        if (!dataTable) return;\n",
              "\n",
              "        const docLinkHtml = 'Like what you see? Visit the ' +\n",
              "          '<a target=\"_blank\" href=https://colab.research.google.com/notebooks/data_table.ipynb>data table notebook</a>'\n",
              "          + ' to learn more about interactive tables.';\n",
              "        element.innerHTML = '';\n",
              "        dataTable['output_type'] = 'display_data';\n",
              "        await google.colab.output.renderOutput(dataTable, element);\n",
              "        const docLink = document.createElement('div');\n",
              "        docLink.innerHTML = docLinkHtml;\n",
              "        element.appendChild(docLink);\n",
              "      }\n",
              "    </script>\n",
              "  </div>\n",
              "\n",
              "\n",
              "    <div id=\"df-cafd9be6-99ff-4367-86f8-d270d96bca93\">\n",
              "      <button class=\"colab-df-quickchart\" onclick=\"quickchart('df-cafd9be6-99ff-4367-86f8-d270d96bca93')\"\n",
              "                title=\"Suggest charts\"\n",
              "                style=\"display:none;\">\n",
              "\n",
              "<svg xmlns=\"http://www.w3.org/2000/svg\" height=\"24px\"viewBox=\"0 0 24 24\"\n",
              "     width=\"24px\">\n",
              "    <g>\n",
              "        <path d=\"M19 3H5c-1.1 0-2 .9-2 2v14c0 1.1.9 2 2 2h14c1.1 0 2-.9 2-2V5c0-1.1-.9-2-2-2zM9 17H7v-7h2v7zm4 0h-2V7h2v10zm4 0h-2v-4h2v4z\"/>\n",
              "    </g>\n",
              "</svg>\n",
              "      </button>\n",
              "\n",
              "<style>\n",
              "  .colab-df-quickchart {\n",
              "      --bg-color: #E8F0FE;\n",
              "      --fill-color: #1967D2;\n",
              "      --hover-bg-color: #E2EBFA;\n",
              "      --hover-fill-color: #174EA6;\n",
              "      --disabled-fill-color: #AAA;\n",
              "      --disabled-bg-color: #DDD;\n",
              "  }\n",
              "\n",
              "  [theme=dark] .colab-df-quickchart {\n",
              "      --bg-color: #3B4455;\n",
              "      --fill-color: #D2E3FC;\n",
              "      --hover-bg-color: #434B5C;\n",
              "      --hover-fill-color: #FFFFFF;\n",
              "      --disabled-bg-color: #3B4455;\n",
              "      --disabled-fill-color: #666;\n",
              "  }\n",
              "\n",
              "  .colab-df-quickchart {\n",
              "    background-color: var(--bg-color);\n",
              "    border: none;\n",
              "    border-radius: 50%;\n",
              "    cursor: pointer;\n",
              "    display: none;\n",
              "    fill: var(--fill-color);\n",
              "    height: 32px;\n",
              "    padding: 0;\n",
              "    width: 32px;\n",
              "  }\n",
              "\n",
              "  .colab-df-quickchart:hover {\n",
              "    background-color: var(--hover-bg-color);\n",
              "    box-shadow: 0 1px 2px rgba(60, 64, 67, 0.3), 0 1px 3px 1px rgba(60, 64, 67, 0.15);\n",
              "    fill: var(--button-hover-fill-color);\n",
              "  }\n",
              "\n",
              "  .colab-df-quickchart-complete:disabled,\n",
              "  .colab-df-quickchart-complete:disabled:hover {\n",
              "    background-color: var(--disabled-bg-color);\n",
              "    fill: var(--disabled-fill-color);\n",
              "    box-shadow: none;\n",
              "  }\n",
              "\n",
              "  .colab-df-spinner {\n",
              "    border: 2px solid var(--fill-color);\n",
              "    border-color: transparent;\n",
              "    border-bottom-color: var(--fill-color);\n",
              "    animation:\n",
              "      spin 1s steps(1) infinite;\n",
              "  }\n",
              "\n",
              "  @keyframes spin {\n",
              "    0% {\n",
              "      border-color: transparent;\n",
              "      border-bottom-color: var(--fill-color);\n",
              "      border-left-color: var(--fill-color);\n",
              "    }\n",
              "    20% {\n",
              "      border-color: transparent;\n",
              "      border-left-color: var(--fill-color);\n",
              "      border-top-color: var(--fill-color);\n",
              "    }\n",
              "    30% {\n",
              "      border-color: transparent;\n",
              "      border-left-color: var(--fill-color);\n",
              "      border-top-color: var(--fill-color);\n",
              "      border-right-color: var(--fill-color);\n",
              "    }\n",
              "    40% {\n",
              "      border-color: transparent;\n",
              "      border-right-color: var(--fill-color);\n",
              "      border-top-color: var(--fill-color);\n",
              "    }\n",
              "    60% {\n",
              "      border-color: transparent;\n",
              "      border-right-color: var(--fill-color);\n",
              "    }\n",
              "    80% {\n",
              "      border-color: transparent;\n",
              "      border-right-color: var(--fill-color);\n",
              "      border-bottom-color: var(--fill-color);\n",
              "    }\n",
              "    90% {\n",
              "      border-color: transparent;\n",
              "      border-bottom-color: var(--fill-color);\n",
              "    }\n",
              "  }\n",
              "</style>\n",
              "\n",
              "      <script>\n",
              "        async function quickchart(key) {\n",
              "          const quickchartButtonEl =\n",
              "            document.querySelector('#' + key + ' button');\n",
              "          quickchartButtonEl.disabled = true;  // To prevent multiple clicks.\n",
              "          quickchartButtonEl.classList.add('colab-df-spinner');\n",
              "          try {\n",
              "            const charts = await google.colab.kernel.invokeFunction(\n",
              "                'suggestCharts', [key], {});\n",
              "          } catch (error) {\n",
              "            console.error('Error during call to suggestCharts:', error);\n",
              "          }\n",
              "          quickchartButtonEl.classList.remove('colab-df-spinner');\n",
              "          quickchartButtonEl.classList.add('colab-df-quickchart-complete');\n",
              "        }\n",
              "        (() => {\n",
              "          let quickchartButtonEl =\n",
              "            document.querySelector('#df-cafd9be6-99ff-4367-86f8-d270d96bca93 button');\n",
              "          quickchartButtonEl.style.display =\n",
              "            google.colab.kernel.accessAllowed ? 'block' : 'none';\n",
              "        })();\n",
              "      </script>\n",
              "    </div>\n",
              "\n",
              "    </div>\n",
              "  </div>\n"
            ],
            "application/vnd.google.colaboratory.intrinsic+json": {
              "type": "dataframe",
              "summary": "{\n  \"name\": \"pd\",\n  \"rows\": 5,\n  \"fields\": [\n    {\n      \"column\": \"pred\",\n      \"properties\": {\n        \"dtype\": \"category\",\n        \"num_unique_values\": 2,\n        \"samples\": [\n          \"CONFIRMED\",\n          \"FALSE POSITIVE\"\n        ],\n        \"semantic_type\": \"\",\n        \"description\": \"\"\n      }\n    },\n    {\n      \"column\": \"P(CONFIRMED)\",\n      \"properties\": {\n        \"dtype\": \"number\",\n        \"std\": 0.521555640283346,\n        \"min\": 0.0005592841163310962,\n        \"max\": 0.9585798816568047,\n        \"num_unique_values\": 4,\n        \"samples\": [\n          0.011019283746556474,\n          0.9585798816568047\n        ],\n        \"semantic_type\": \"\",\n        \"description\": \"\"\n      }\n    },\n    {\n      \"column\": \"P(FALSE POSITIVE)\",\n      \"properties\": {\n        \"dtype\": \"number\",\n        \"std\": 0.521555640283346,\n        \"min\": 0.04142011834319527,\n        \"max\": 0.9994407158836689,\n        \"num_unique_values\": 4,\n        \"samples\": [\n          0.9889807162534435,\n          0.04142011834319527\n        ],\n        \"semantic_type\": \"\",\n        \"description\": \"\"\n      }\n    }\n  ]\n}"
            }
          },
          "metadata": {},
          "execution_count": 50
        }
      ]
    }
  ]
}